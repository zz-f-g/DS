{
 "cells": [
  {
   "cell_type": "markdown",
   "metadata": {},
   "source": [
    "# Data_Structure"
   ]
  },
  {
   "cell_type": "markdown",
   "metadata": {},
   "source": [
    "## Stack"
   ]
  },
  {
   "cell_type": "code",
   "execution_count": null,
   "metadata": {},
   "outputs": [],
   "source": [
    "class Stack(object):\n",
    "    def __init__(self, MAXLEN):\n",
    "        self.__MAXLEN = MAXLEN\n",
    "        self.__stack = [0]*MAXLEN # initial stack\n",
    "        self.__top = -1 # top pointer\n",
    "\n",
    "    def isempty(self):\n",
    "        if self.__top == -1:\n",
    "            return True\n",
    "        else:\n",
    "            return False\n",
    "\n",
    "    def isfull(self):\n",
    "        if self.__top+1 == self.__MAXLEN:\n",
    "            return True\n",
    "        else:\n",
    "            return False\n",
    "\n",
    "    def show_stack(self):\n",
    "        if self.isempty():\n",
    "            print(\"Empty Stack\")\n",
    "        else:\n",
    "            for i in range(self.__top+1):\n",
    "                print(self.__stack[i],end='\\t')\n",
    "            print()\n",
    "\n",
    "    def push(self, x):\n",
    "        if self.isfull():\n",
    "            print(\"Stack Overflow!\")\n",
    "            return # stack overflow\n",
    "        self.__top += 1\n",
    "        self.__stack[self.__top] = x\n",
    "\n",
    "    def pop(self):\n",
    "        if self.isempty():\n",
    "            print(\"Empty Stack!\")\n",
    "            return 0\n",
    "        x = self.__stack[self.__top]\n",
    "        self.__top -=1\n",
    "        return x\n",
    "\n",
    "s = Stack(10)\n",
    "for i in range(20):\n",
    "    s.push(i)\n",
    "s.show_stack()\n",
    "for i in range(30):\n",
    "    s.pop()\n",
    "s.show_stack()"
   ]
  },
  {
   "cell_type": "markdown",
   "metadata": {},
   "source": [
    "### Backpack Question\n",
    "\n",
    "提供一个存储物品质量的线性表，已知背包的重量，求可以装满背包的物品组合。\n",
    "\n",
    "即求解线性方程\n",
    "$$\n",
    "\\sum_{i=1}^{n} x_i = W, x_i \\in S\n",
    "$$"
   ]
  },
  {
   "cell_type": "code",
   "execution_count": null,
   "metadata": {},
   "outputs": [],
   "source": [
    "item_list = [2,4,5,3,6,4,3,7,5]\n",
    "W = 10"
   ]
  },
  {
   "cell_type": "code",
   "execution_count": null,
   "metadata": {},
   "outputs": [],
   "source": [
    "def Pack(item_list, W, ans):\n",
    "    item = 1\n",
    "    n = len(item_list)\n",
    "    while W>0 and item<=n:\n",
    "        if (W - item_list[item-1] == 0) or (W - item_list[item-1] > 0) and (item < n):\n",
    "            if ans.isfull():\n",
    "                return\n",
    "            ans.push(item)\n",
    "            W -= item_list[item-1]\n",
    "        if W == 0:\n",
    "            return ans\n",
    "        else:\n",
    "            if (item == n) and (not ans.isempty()):\n",
    "                item = ans.pop()\n",
    "                W += item_list[item-1]\n",
    "            item += 1\n",
    "    return"
   ]
  },
  {
   "cell_type": "code",
   "execution_count": null,
   "metadata": {},
   "outputs": [],
   "source": [
    "a = Pack(item_list,W,Stack(100))\n",
    "a.show_stack()"
   ]
  },
  {
   "cell_type": "markdown",
   "metadata": {},
   "source": [
    "Grade"
   ]
  },
  {
   "cell_type": "code",
   "execution_count": null,
   "metadata": {},
   "outputs": [],
   "source": [
    "class lesson(object):\n",
    "    __slots__ = ('_credit','_grade','_name','_semester')\n",
    "\n",
    "    @property\n",
    "    def credit(self):\n",
    "        return self._credit\n",
    "    @credit.setter\n",
    "    def credit(self,c):\n",
    "        if isinstance(c,(int,float)):\n",
    "            self._credit = c\n",
    "        else:\n",
    "            raise ValueError('Credit must be a number!')\n",
    "\n",
    "    @property\n",
    "    def grade(self):\n",
    "        return self._grade\n",
    "    @grade.setter\n",
    "    def grade(self,g):\n",
    "        if g in (0,2,3,4,5):\n",
    "            self._grade = g\n",
    "        else:\n",
    "            raise ValueError('Grade must be 0, 2, 3, 4 or 5!')"
   ]
  }
 ],
 "metadata": {
  "interpreter": {
   "hash": "07efdcd4b820c98a756949507a4d29d7862823915ec7477944641bea022f4f62"
  },
  "kernelspec": {
   "display_name": "Python 3.7.0 64-bit ('base': conda)",
   "language": "python",
   "name": "python3"
  },
  "language_info": {
   "codemirror_mode": {
    "name": "ipython",
    "version": 3
   },
   "file_extension": ".py",
   "mimetype": "text/x-python",
   "name": "python",
   "nbconvert_exporter": "python",
   "pygments_lexer": "ipython3",
   "version": "3.7.0"
  },
  "orig_nbformat": 4
 },
 "nbformat": 4,
 "nbformat_minor": 2
}
